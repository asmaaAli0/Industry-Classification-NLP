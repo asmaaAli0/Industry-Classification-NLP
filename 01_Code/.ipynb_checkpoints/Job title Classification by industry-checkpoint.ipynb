{
 "cells": [
  {
   "cell_type": "markdown",
   "id": "b1d84a88",
   "metadata": {},
   "source": [
    "# Problem \n",
    "Industry Classification Problem\n",
    "You can think of the job industry as the category or general field in which you work. On a job application, \"industry\" refers to a broad category under which a number of job titles can fall. For example, sales is an industry; job titles under this category can include sales associate, sales manager, manufacturing sales rep, pharmaceutical sales and so on.\n"
   ]
  },
  {
   "cell_type": "markdown",
   "id": "7704aa45",
   "metadata": {},
   "source": [
    "# import libraries"
   ]
  },
  {
   "cell_type": "code",
   "execution_count": 2,
   "id": "7324204f",
   "metadata": {},
   "outputs": [],
   "source": [
    "import pandas as pd\n",
    "import os\n",
    "import datetime\n",
    "import calendar\n",
    "from sklearn.preprocessing import OrdinalEncoder\n",
    "import numpy as np\n",
    "import seaborn as sns\n",
    "import matplotlib.pyplot as plt\n",
    "import warnings\n",
    "from sklearn.metrics import r2_score,mean_squared_error\n",
    "from bs4 import BeautifulSoup\n",
    "import unidecode\n",
    "from word2number import w2n\n",
    "import spacy\n",
    "from gensim.utils import simple_preprocess\n",
    "from nltk.stem import WordNetLemmatizer\n",
    "import nltk\n",
    "from nltk.stem import PorterStemmer\n",
    "import re\n",
    "from sklearn.model_selection import train_test_split\n",
    "from sklearn.utils import resample\n",
    "from sklearn.pipeline import Pipeline\n",
    "from sklearn.feature_extraction.text import CountVectorizer, TfidfVectorizer\n",
    "from sklearn.metrics import accuracy_score, confusion_matrix\n",
    "from sklearn.naive_bayes import MultinomialNB\n",
    "from sklearn.feature_extraction.text import TfidfTransformer\n",
    "from sklearn.linear_model import SGDClassifier,LogisticRegression\n",
    "from sklearn.utils.class_weight import compute_sample_weight\n",
    "from sklearn import metrics\n",
    "from sklearn.metrics import precision_score\n",
    "from sklearn.metrics import recall_score\n",
    "from sklearn.metrics import f1_score\n",
    "\n",
    "\n",
    "from sklearn import preprocessing\n",
    "from sklearn.linear_model import LinearRegression, LogisticRegression, Ridge, Lasso, ElasticNet,SGDClassifier\n",
    "from sklearn.tree import DecisionTreeClassifier\n",
    "from sklearn.svm import SVR\n",
    "from sklearn.neighbors import KNeighborsClassifier\n",
    "from xgboost import XGBClassifier\n",
    "from sklearn.model_selection import KFold\n",
    "from sklearn.model_selection import cross_val_score\n",
    "from sklearn.model_selection import train_test_split\n",
    "from sklearn.metrics import mean_squared_log_error\n",
    "from sklearn.feature_selection import VarianceThreshold\n",
    "from sklearn.feature_selection import RFE\n",
    "from sklearn.preprocessing import PolynomialFeatures\n",
    "from sklearn.ensemble import RandomForestClassifier, ExtraTreesClassifier\n",
    "from sklearn.ensemble import AdaBoostClassifier, BaggingClassifier, GradientBoostingClassifier, VotingClassifier\n",
    "from sklearn.model_selection import GridSearchCV\n",
    "from sklearn.neural_network import MLPClassifier\n",
    "\n",
    "\n",
    "\n",
    "from sklearn.utils.class_weight import compute_sample_weight\n",
    "from sklearn.feature_extraction.text import CountVectorizer, TfidfVectorizer\n",
    "from sklearn.metrics import accuracy_score, confusion_matrix\n",
    "from sklearn.naive_bayes import MultinomialNB\n",
    "from sklearn.pipeline import Pipeline\n",
    "from sklearn.feature_extraction.text import TfidfTransformer\n",
    "from sklearn.metrics import f1_score,recall_score,precision_score\n",
    "\n",
    "warnings.simplefilter(action='ignore', category=FutureWarning)\n",
    "warnings.simplefilter(action='ignore', category=UserWarning)"
   ]
  },
  {
   "cell_type": "markdown",
   "id": "807cb7de",
   "metadata": {},
   "source": [
    "# Read dataset\n",
    "\n",
    "### dataset used \n",
    "- The Dataset that has two variables (Job title & Industry) in a csv format of more than 8,500 samples.\n",
    "\n",
    "- The dataset is imbalanced (Imbalance means that the number of data points available for different classes is different).\n",
    "\n",
    "- https://drive.google.com/file/d/1W_MO19MlDDUn0qCfxEaVxGKKlKHsFFly/view"
   ]
  },
  {
   "cell_type": "code",
   "execution_count": 49,
   "id": "3533e34f",
   "metadata": {},
   "outputs": [],
   "source": [
    "df = pd.read_csv(\".\\\\Job titles and industries.csv\")"
   ]
  },
  {
   "cell_type": "code",
   "execution_count": 50,
   "id": "f55e069d",
   "metadata": {},
   "outputs": [
    {
     "data": {
      "text/html": [
       "<div>\n",
       "<style scoped>\n",
       "    .dataframe tbody tr th:only-of-type {\n",
       "        vertical-align: middle;\n",
       "    }\n",
       "\n",
       "    .dataframe tbody tr th {\n",
       "        vertical-align: top;\n",
       "    }\n",
       "\n",
       "    .dataframe thead th {\n",
       "        text-align: right;\n",
       "    }\n",
       "</style>\n",
       "<table border=\"1\" class=\"dataframe\">\n",
       "  <thead>\n",
       "    <tr style=\"text-align: right;\">\n",
       "      <th></th>\n",
       "      <th>job title</th>\n",
       "      <th>industry</th>\n",
       "    </tr>\n",
       "  </thead>\n",
       "  <tbody>\n",
       "    <tr>\n",
       "      <th>0</th>\n",
       "      <td>technical support and helpdesk supervisor - co...</td>\n",
       "      <td>IT</td>\n",
       "    </tr>\n",
       "    <tr>\n",
       "      <th>1</th>\n",
       "      <td>senior technical support engineer</td>\n",
       "      <td>IT</td>\n",
       "    </tr>\n",
       "    <tr>\n",
       "      <th>2</th>\n",
       "      <td>head of it services</td>\n",
       "      <td>IT</td>\n",
       "    </tr>\n",
       "    <tr>\n",
       "      <th>3</th>\n",
       "      <td>js front end engineer</td>\n",
       "      <td>IT</td>\n",
       "    </tr>\n",
       "    <tr>\n",
       "      <th>4</th>\n",
       "      <td>network and telephony controller</td>\n",
       "      <td>IT</td>\n",
       "    </tr>\n",
       "    <tr>\n",
       "      <th>5</th>\n",
       "      <td>privileged access management expert</td>\n",
       "      <td>IT</td>\n",
       "    </tr>\n",
       "    <tr>\n",
       "      <th>6</th>\n",
       "      <td>devops engineers x 3 - global brand</td>\n",
       "      <td>IT</td>\n",
       "    </tr>\n",
       "    <tr>\n",
       "      <th>7</th>\n",
       "      <td>devops engineers x 3 - global brand</td>\n",
       "      <td>IT</td>\n",
       "    </tr>\n",
       "    <tr>\n",
       "      <th>8</th>\n",
       "      <td>data modeller</td>\n",
       "      <td>IT</td>\n",
       "    </tr>\n",
       "    <tr>\n",
       "      <th>9</th>\n",
       "      <td>php web developer £45,000 based in london</td>\n",
       "      <td>IT</td>\n",
       "    </tr>\n",
       "  </tbody>\n",
       "</table>\n",
       "</div>"
      ],
      "text/plain": [
       "                                           job title industry\n",
       "0  technical support and helpdesk supervisor - co...       IT\n",
       "1                  senior technical support engineer       IT\n",
       "2                                head of it services       IT\n",
       "3                              js front end engineer       IT\n",
       "4                   network and telephony controller       IT\n",
       "5                privileged access management expert       IT\n",
       "6                devops engineers x 3 - global brand       IT\n",
       "7                devops engineers x 3 - global brand       IT\n",
       "8                                      data modeller       IT\n",
       "9          php web developer £45,000 based in london       IT"
      ]
     },
     "execution_count": 50,
     "metadata": {},
     "output_type": "execute_result"
    }
   ],
   "source": [
    "df.head(10)"
   ]
  },
  {
   "cell_type": "markdown",
   "id": "7f79eb38",
   "metadata": {},
   "source": [
    "# EDA"
   ]
  },
  {
   "cell_type": "code",
   "execution_count": 51,
   "id": "25b39025",
   "metadata": {},
   "outputs": [
    {
     "name": "stdout",
     "output_type": "stream",
     "text": [
      "<class 'pandas.core.frame.DataFrame'>\n",
      "RangeIndex: 8586 entries, 0 to 8585\n",
      "Data columns (total 2 columns):\n",
      " #   Column     Non-Null Count  Dtype \n",
      "---  ------     --------------  ----- \n",
      " 0   job title  8586 non-null   object\n",
      " 1   industry   8586 non-null   object\n",
      "dtypes: object(2)\n",
      "memory usage: 134.3+ KB\n"
     ]
    }
   ],
   "source": [
    "df.info()"
   ]
  },
  {
   "cell_type": "markdown",
   "id": "28d5ae69",
   "metadata": {},
   "source": [
    "**Check nulls**"
   ]
  },
  {
   "cell_type": "code",
   "execution_count": 52,
   "id": "1d19377c",
   "metadata": {},
   "outputs": [
    {
     "data": {
      "image/png": "[encoded data removed]",
      "text/plain": [
       "<Figure size 432x288 with 1 Axes>"
      ]
     },
     "metadata": {
      "needs_background": "light"
     },
     "output_type": "display_data"
    }
   ],
   "source": [
    "df.isna().sum().plot(kind=\"bar\")\n",
    "plt.show()\n",
    "#No missing values "
   ]
  },
  {
   "cell_type": "markdown",
   "id": "1ee58b13",
   "metadata": {},
   "source": [
    "## **Check duplicates**\n",
    "### Note\n",
    "when i removed duplicates and tried to solve the imbalance problem, model got lower accuracy than keeping it \n",
    "so i desided to keep the duplicates and solve imbalance problem as well"
   ]
  },
  {
   "cell_type": "code",
   "execution_count": 53,
   "id": "7aabbcc8",
   "metadata": {},
   "outputs": [
    {
     "data": {
      "text/plain": [
       "4618"
      ]
     },
     "execution_count": 53,
     "metadata": {},
     "output_type": "execute_result"
    }
   ],
   "source": [
    "df.duplicated().sum()"
   ]
  },
  {
   "cell_type": "code",
   "execution_count": 54,
   "id": "315076da",
   "metadata": {},
   "outputs": [],
   "source": [
    "#df.drop_duplicates(inplace = True)"
   ]
  },
  {
   "cell_type": "code",
   "execution_count": 55,
   "id": "91e4afb2",
   "metadata": {},
   "outputs": [],
   "source": [
    "#df.info()"
   ]
  },
  {
   "cell_type": "markdown",
   "id": "8b6e8c98",
   "metadata": {},
   "source": [
    "titles such as product manager..account manager is not specified to one industry \n",
    "<br> keep it for now"
   ]
  },
  {
   "cell_type": "code",
   "execution_count": 56,
   "id": "1e82a7dd",
   "metadata": {},
   "outputs": [
    {
     "data": {
      "text/plain": [
       "marketing executive                                           91\n",
       "php developer                                                 54\n",
       "trainee network technician                                    53\n",
       "software developer                                            53\n",
       "marketing manager                                             49\n",
       "                                                              ..\n",
       "digital designer - ux/ui                                       1\n",
       "digital marketing executive - restaurant chain                 1\n",
       "marketing and creative manager - salary circa £50k - poole     1\n",
       "data analyst, sql, ecommerce, central london - £45k            1\n",
       "creative copywriter (arabic/english)                           1\n",
       "Name: job title, Length: 3890, dtype: int64"
      ]
     },
     "execution_count": 56,
     "metadata": {},
     "output_type": "execute_result"
    }
   ],
   "source": [
    "df['job title'].value_counts() "
   ]
  },
  {
   "cell_type": "markdown",
   "id": "ece70d81",
   "metadata": {},
   "source": [
    "Data still imbalanced after removing duplicates"
   ]
  },
  {
   "cell_type": "code",
   "execution_count": 57,
   "id": "7c0dd83c",
   "metadata": {},
   "outputs": [
    {
     "data": {
      "image/png": "[encoded data removed]",
      "text/plain": [
       "<Figure size 648x576 with 1 Axes>"
      ]
     },
     "metadata": {},
     "output_type": "display_data"
    }
   ],
   "source": [
    "plt.figure(figsize=(9,8))\n",
    "df['industry'].value_counts().plot.pie();\n",
    "plt.title(\"checking industry balance in pie plot\");\n"
   ]
  },
  {
   "cell_type": "markdown",
   "id": "f5fe72a4",
   "metadata": {},
   "source": [
    "# text preprocessing <b>\n",
    "<b> Tokenization <b> \n",
    "<b> Normalization <b> \n",
    "<b> Noise removal <b> "
   ]
  },
  {
   "cell_type": "code",
   "execution_count": 58,
   "id": "09afd2c5",
   "metadata": {},
   "outputs": [
    {
     "name": "stderr",
     "output_type": "stream",
     "text": [
      "[nltk_data] Downloading package wordnet to C:\\Users\\asmaa\n",
      "[nltk_data]     ali\\AppData\\Roaming\\nltk_data...\n",
      "[nltk_data]   Package wordnet is already up-to-date!\n"
     ]
    }
   ],
   "source": [
    "nltk.download('wordnet')\n",
    "\n",
    "# init lemmatizer\n",
    "lemmatizer = WordNetLemmatizer()\n"
   ]
  },
  {
   "cell_type": "code",
   "execution_count": 59,
   "id": "7c1b203a",
   "metadata": {},
   "outputs": [],
   "source": [
    "# init Noise remover\n",
    "porter_stemmer=PorterStemmer()"
   ]
  },
  {
   "cell_type": "code",
   "execution_count": 60,
   "id": "d34b2fce",
   "metadata": {},
   "outputs": [],
   "source": [
    "from gensim.parsing.preprocessing import STOPWORDS\n",
    "STOPWORDS.union(set(['&', ',', '-', '/', '\\\\', '+', '=', '$', '#', '*']))\n",
    "#remove it from stopwords\n",
    "WordsList = []\n",
    "WordsList= list(STOPWORDS)\n",
    "WordsList.remove(\"it\")\n",
    "STOPWORDS = frozenset(WordsList)\n"
   ]
  },
  {
   "cell_type": "code",
   "execution_count": 61,
   "id": "a47b1e27",
   "metadata": {},
   "outputs": [
    {
     "name": "stdout",
     "output_type": "stream",
     "text": [
      "['line', 'infrastructure', 'C#', 'c++', 'engineer', 'microsoft']\n"
     ]
    }
   ],
   "source": [
    "#Treatment for Numbers \n",
    "text = \"3rd line infrastructure  C# c++  engineer microsoft\"\n",
    "doc = text.split()\n",
    "tokens = [x for x in doc if not any(c.isdigit() for c in x)]\n",
    "print(tokens)\n",
    "\n",
    "\"\"\"remove extra whitespaces from text\"\"\"\n",
    "def remove_whitespace(text):\n",
    "    text = text.strip()\n",
    "    return \" \".join(text.split())\n",
    "\n",
    "def scrub_words(text):\n",
    "    \"\"\"Basic cleaning of texts.\"\"\"\n",
    "    \n",
    "    # remove html markup\n",
    "    text=re.sub(\"(<.*?>)\",\"\",text)\n",
    "    \n",
    "    #remove non-ascii and digits\n",
    "    text=re.sub(\"(\\\\W|\\\\d)\",\" \",text)\n",
    "    \n",
    "    #remove whitespace\n",
    "    text=text.strip()\n",
    "    return text\n",
    "\n",
    "def text_preprocessing(text):\n",
    "    result = \"\"\n",
    "    #remove words with digits\n",
    "    #tokens = [x for x in doc if not any(c.isdigit() for c in x)]\n",
    "    # remove white spaces\n",
    "    text = remove_whitespace(text)\n",
    "    for token in text.split():\n",
    "        if token not in STOPWORDS and len(token) >= 2:\n",
    "            token = token.lower() # lowercase text\n",
    "            token = lemmatizer.lemmatize(word=token,pos='v')\n",
    "            token = scrub_words(token)\n",
    "            token = porter_stemmer.stem(word=token)\n",
    "            result+=token+\" \"     # append to result\n",
    "    return result"
   ]
  },
  {
   "cell_type": "code",
   "execution_count": 62,
   "id": "bb7ae507",
   "metadata": {},
   "outputs": [
    {
     "data": {
      "text/html": [
       "<div>\n",
       "<style scoped>\n",
       "    .dataframe tbody tr th:only-of-type {\n",
       "        vertical-align: middle;\n",
       "    }\n",
       "\n",
       "    .dataframe tbody tr th {\n",
       "        vertical-align: top;\n",
       "    }\n",
       "\n",
       "    .dataframe thead th {\n",
       "        text-align: right;\n",
       "    }\n",
       "</style>\n",
       "<table border=\"1\" class=\"dataframe\">\n",
       "  <thead>\n",
       "    <tr style=\"text-align: right;\">\n",
       "      <th></th>\n",
       "      <th>job title</th>\n",
       "      <th>industry</th>\n",
       "    </tr>\n",
       "  </thead>\n",
       "  <tbody>\n",
       "    <tr>\n",
       "      <th>0</th>\n",
       "      <td>technic support helpdesk supervisor counti bui...</td>\n",
       "      <td>IT</td>\n",
       "    </tr>\n",
       "    <tr>\n",
       "      <th>1</th>\n",
       "      <td>senior technic support engin</td>\n",
       "      <td>IT</td>\n",
       "    </tr>\n",
       "    <tr>\n",
       "      <th>2</th>\n",
       "      <td>head it servic</td>\n",
       "      <td>IT</td>\n",
       "    </tr>\n",
       "    <tr>\n",
       "      <th>3</th>\n",
       "      <td>js end engin</td>\n",
       "      <td>IT</td>\n",
       "    </tr>\n",
       "    <tr>\n",
       "      <th>4</th>\n",
       "      <td>network telephoni control</td>\n",
       "      <td>IT</td>\n",
       "    </tr>\n",
       "  </tbody>\n",
       "</table>\n",
       "</div>"
      ],
      "text/plain": [
       "                                           job title industry\n",
       "0  technic support helpdesk supervisor counti bui...       IT\n",
       "1                      senior technic support engin        IT\n",
       "2                                    head it servic        IT\n",
       "3                                      js end engin        IT\n",
       "4                         network telephoni control        IT"
      ]
     },
     "execution_count": 62,
     "metadata": {},
     "output_type": "execute_result"
    }
   ],
   "source": [
    "#text_preprocessing('text, it ,IT, IT , iT it it c# c++ sql web developer - php, mongodb' )\n",
    "df['job title'] = df['job title'].map(text_preprocessing)\n",
    "df.head()"
   ]
  },
  {
   "cell_type": "markdown",
   "id": "7825b0a8",
   "metadata": {},
   "source": [
    "# Split data "
   ]
  },
  {
   "cell_type": "code",
   "execution_count": 63,
   "id": "a8b8fbee",
   "metadata": {},
   "outputs": [],
   "source": [
    "X = df['job title']\n",
    "y = df['industry']\n",
    "x_train, x_test, y_train, y_test = train_test_split(X, y, test_size=0.2, random_state = 42,shuffle = True)"
   ]
  },
  {
   "cell_type": "code",
   "execution_count": 64,
   "id": "b86e7d4d",
   "metadata": {},
   "outputs": [
    {
     "data": {
      "image/png": "[encoded data removed]",
      "text/plain": [
       "<Figure size 432x432 with 1 Axes>"
      ]
     },
     "metadata": {
      "needs_background": "light"
     },
     "output_type": "display_data"
    }
   ],
   "source": [
    "plt.figure(figsize=(6,6));\n",
    "y_train.value_counts().plot(kind='bar')\n",
    "plt.show();"
   ]
  },
  {
   "cell_type": "markdown",
   "id": "03f4e34e",
   "metadata": {},
   "source": [
    "try\n",
    "- upsample \n",
    "- SMOTE \n",
    "- weighted cost\n",
    "\n",
    "finall i chose to combine upsampling with weighted cost"
   ]
  },
  {
   "cell_type": "code",
   "execution_count": 65,
   "id": "4e0aae15",
   "metadata": {},
   "outputs": [
    {
     "data": {
      "image/png": "[encoded data removed]",
      "text/plain": [
       "<Figure size 432x432 with 1 Axes>"
      ]
     },
     "metadata": {
      "needs_background": "light"
     },
     "output_type": "display_data"
    }
   ],
   "source": [
    "\n",
    "# UpSampling\n",
    "allData = pd.concat([x_train,y_train],axis = 1)\n",
    "it = allData[allData.industry == 'IT']\n",
    "Marketing = allData[allData.industry == 'Marketing']\n",
    "Education = allData[allData.industry == 'Education']\n",
    "Accountancy = allData[allData.industry == 'Accountancy']\n",
    "\n",
    "up_edu = resample(Education , replace = True , n_samples = len(it),random_state = 42)\n",
    "up_acc = resample(Accountancy , replace = True , n_samples = len(it),random_state = 42)\n",
    "up_market = resample(Marketing , replace = True , n_samples = len(it),random_state = 42)\n",
    "\n",
    "\n",
    "updatedDate = pd.concat([it,up_market,up_edu,up_acc])\n",
    "\n",
    "plt.figure(figsize=(6,6));\n",
    "updatedDate.industry.value_counts().plot(kind='bar')\n",
    "plt.show();"
   ]
  },
  {
   "cell_type": "code",
   "execution_count": null,
   "id": "b6ef33f4",
   "metadata": {},
   "outputs": [],
   "source": []
  },
  {
   "cell_type": "code",
   "execution_count": 66,
   "id": "1f9aa31a",
   "metadata": {},
   "outputs": [],
   "source": [
    "x_train = updatedDate['job title']\n",
    "y_train = updatedDate['industry']\n"
   ]
  },
  {
   "cell_type": "code",
   "execution_count": 67,
   "id": "4745ff5a",
   "metadata": {},
   "outputs": [],
   "source": [
    "# weighted cost \n",
    "weights = compute_sample_weight(\"balanced\",y_train)\n"
   ]
  },
  {
   "cell_type": "markdown",
   "id": "e6bdcf0c",
   "metadata": {},
   "source": [
    "# Models"
   ]
  },
  {
   "cell_type": "markdown",
   "id": "29114fd2",
   "metadata": {},
   "source": [
    "###  1: Naive Bayes classifier for multinomial models"
   ]
  },
  {
   "cell_type": "code",
   "execution_count": 68,
   "id": "c43d9909",
   "metadata": {},
   "outputs": [],
   "source": [
    "x_test = x_test.map(text_preprocessing)"
   ]
  },
  {
   "cell_type": "code",
   "execution_count": 69,
   "id": "65a3c86f",
   "metadata": {},
   "outputs": [
    {
     "name": "stdout",
     "output_type": "stream",
     "text": [
      "accuracy 0.9126891734575088\n"
     ]
    }
   ],
   "source": [
    "nb = Pipeline([('vect', CountVectorizer()),\n",
    "               ('tfidf', TfidfTransformer()),\n",
    "               ('clf', MultinomialNB()),])\n",
    "\n",
    "nb.fit(x_train, y_train, **{'clf__sample_weight': weights})\n",
    "\n",
    "y_pred = nb.predict(x_test)\n",
    "print('accuracy %s' % accuracy_score(y_pred, y_test))"
   ]
  },
  {
   "cell_type": "code",
   "execution_count": 70,
   "id": "625f3d52",
   "metadata": {},
   "outputs": [
    {
     "name": "stdout",
     "output_type": "stream",
     "text": [
      "              precision    recall  f1-score   support\n",
      "\n",
      " Accountancy       0.64      0.87      0.74        69\n",
      "   Education       0.94      0.88      0.91       309\n",
      "          IT       0.96      0.94      0.95       942\n",
      "   Marketing       0.85      0.89      0.87       398\n",
      "\n",
      "    accuracy                           0.91      1718\n",
      "   macro avg       0.85      0.89      0.87      1718\n",
      "weighted avg       0.92      0.91      0.91      1718\n",
      "\n"
     ]
    }
   ],
   "source": [
    "print(metrics.classification_report(y_test, y_pred))"
   ]
  },
  {
   "cell_type": "code",
   "execution_count": 71,
   "id": "a1290b90",
   "metadata": {},
   "outputs": [
    {
     "name": "stdout",
     "output_type": "stream",
     "text": [
      "accuracy 0.9155995343422585\n"
     ]
    }
   ],
   "source": []
  },
  {
   "cell_type": "code",
   "execution_count": 72,
   "id": "f90d3a4d",
   "metadata": {},
   "outputs": [
    {
     "name": "stdout",
     "output_type": "stream",
     "text": [
      "              precision    recall  f1-score   support\n",
      "\n",
      " Accountancy       0.57      0.87      0.69        69\n",
      "   Education       0.95      0.89      0.92       309\n",
      "          IT       0.96      0.94      0.95       942\n",
      "   Marketing       0.88      0.89      0.89       398\n",
      "\n",
      "    accuracy                           0.92      1718\n",
      "   macro avg       0.84      0.90      0.86      1718\n",
      "weighted avg       0.92      0.92      0.92      1718\n",
      "\n"
     ]
    }
   ],
   "source": [
    "print(metrics.classification_report(y_test, y_pred))"
   ]
  },
  {
   "cell_type": "code",
   "execution_count": 73,
   "id": "a8251730",
   "metadata": {},
   "outputs": [
    {
     "name": "stdout",
     "output_type": "stream",
     "text": [
      "accuracy 0.9068684516880093\n"
     ]
    }
   ],
   "source": [
    "from sklearn.linear_model import LogisticRegression\n",
    "\n",
    "logreg = Pipeline([('vect', CountVectorizer()),\n",
    "                ('tfidf', TfidfTransformer()),\n",
    "                ('clf', LogisticRegression(n_jobs=1, C=1e7)),\n",
    "               ])\n",
    "logreg.fit(x_train, y_train, **{'clf__sample_weight': weights})\n",
    "\n",
    "y_pred = logreg.predict(x_test)\n",
    "print('accuracy %s' % accuracy_score(y_pred, y_test))"
   ]
  },
  {
   "cell_type": "code",
   "execution_count": 74,
   "id": "a4038df3",
   "metadata": {},
   "outputs": [
    {
     "name": "stdout",
     "output_type": "stream",
     "text": [
      "              precision    recall  f1-score   support\n",
      "\n",
      " Accountancy       0.69      0.68      0.69        69\n",
      "   Education       0.88      0.90      0.89       309\n",
      "          IT       0.96      0.94      0.95       942\n",
      "   Marketing       0.84      0.87      0.86       398\n",
      "\n",
      "    accuracy                           0.91      1718\n",
      "   macro avg       0.84      0.85      0.85      1718\n",
      "weighted avg       0.91      0.91      0.91      1718\n",
      "\n"
     ]
    }
   ],
   "source": [
    "print(metrics.classification_report(y_test, y_pred))"
   ]
  },
  {
   "cell_type": "code",
   "execution_count": 75,
   "id": "fac47947",
   "metadata": {},
   "outputs": [
    {
     "name": "stdout",
     "output_type": "stream",
     "text": [
      "[19:22:52] WARNING: C:/Users/Administrator/workspace/xgboost-win64_release_1.4.0/src/learner.cc:1095: Starting in XGBoost 1.3.0, the default evaluation metric used with the objective 'multi:softprob' was changed from 'merror' to 'mlogloss'. Explicitly set eval_metric if you'd like to restore the old behavior.\n",
      "+----+------------------------------+------------+-------------+----------+------------+\n",
      "|    | name                         |   accuracy |   precision |   recall |   f1 score |\n",
      "|----+------------------------------+------------+-------------+----------+------------|\n",
      "|  0 | Logistic Regression          |   0.922002 |    0.857509 | 0.922002 |   0.922002 |\n",
      "|  1 | Decision Tree Classifier     |   0.906286 |    0.850475 | 0.906286 |   0.906286 |\n",
      "|  2 | KNN                          |   0.912107 |    0.863616 | 0.912107 |   0.912107 |\n",
      "|  3 | Linear SVM                   |   0.9156   |    0.840585 | 0.9156   |   0.9156   |\n",
      "|  4 | Perceptron                   |   0.899884 |    0.820656 | 0.899884 |   0.899884 |\n",
      "|  5 | XGboost                      |   0.917928 |    0.866651 | 0.917928 |   0.917928 |\n",
      "|  6 | Extra Trees Classifier       |   0.933062 |    0.889839 | 0.933062 |   0.933062 |\n",
      "|  7 | Random Forest Classifier     |   0.930151 |    0.889789 | 0.930151 |   0.930151 |\n",
      "|  8 | Ada Boost Classifier         |   0.763679 |    0.725817 | 0.763679 |   0.763679 |\n",
      "|  9 | Bagging Classifier           |   0.912107 |    0.865752 | 0.912107 |   0.912107 |\n",
      "| 10 | Gradient Boosting Classifier |   0.894063 |    0.816207 | 0.894063 |   0.894063 |\n",
      "| 11 | Naive Bayes Classifier       |   0.912689 |    0.846379 | 0.912689 |   0.912689 |\n",
      "+----+------------------------------+------------+-------------+----------+------------+\n"
     ]
    }
   ],
   "source": [
    "from sklearn.neighbors import KNeighborsClassifier\n",
    "\n",
    "\n",
    "models = []\n",
    "models.append(('Logistic Regression', LogisticRegression()))\n",
    "# models.append(('Ridge', Ridge()))\n",
    "# models.append(('Lasso', Lasso(tol=0.1)))\n",
    "models.append(('Decision Tree Classifier', DecisionTreeClassifier()))\n",
    "models.append(('KNN', KNeighborsClassifier(n_neighbors=3)))\n",
    "# models.append(('SVR', SVR()))\n",
    "models.append(('Linear SVM', SGDClassifier(loss='hinge', penalty='l2',alpha=0.0001, random_state=42, max_iter=200, tol=None)))\n",
    "models.append(('Perceptron', SGDClassifier(loss='perceptron', penalty='l2',alpha=1e-3, random_state=42, max_iter=5, tol=None)))\n",
    "models.append(('XGboost', XGBClassifier()))\n",
    "models.append(('Extra Trees Classifier', ExtraTreesClassifier()))\n",
    "models.append(('Random Forest Classifier', RandomForestClassifier()))\n",
    "models.append(('Ada Boost Classifier', AdaBoostClassifier(random_state=0, n_estimators=100)))\n",
    "models.append(('Bagging Classifier',BaggingClassifier(base_estimator=DecisionTreeClassifier(), n_estimators=100, random_state=42)))\n",
    "models.append(('Gradient Boosting Classifier',GradientBoostingClassifier(random_state=1)))\n",
    "models.append(('Naive Bayes Classifier', MultinomialNB()))\n",
    "# models.append(('Neural Network', MLPClassifier(random_state=1, max_iter=1000)))\n",
    "\n",
    "names = []\n",
    "from tabulate import tabulate\n",
    "import pandas as pd\n",
    "  \n",
    "# creating a DataFrame\n",
    "dict = {'name':[],\n",
    "        'accuracy':[],\n",
    "        'precision':[],\n",
    "        'recall':[],\n",
    "        'f1 score':[]\n",
    "       }\n",
    "\n",
    "for name, model in models:\n",
    "    nb = Pipeline([('vect', CountVectorizer()),\n",
    "               ('tfidf', TfidfTransformer()),\n",
    "               ('clf', model),])\n",
    "    nb.fit(x_train,y_train)\n",
    "    y_pred = nb.predict(x_test)\n",
    "    names.append(name)\n",
    "    dict['name'].append(name)\n",
    "    # accuracy: (tp + tn) / (p + n)\n",
    "    accuracy = accuracy_score(y_test, y_pred)\n",
    "    dict['accuracy'].append(accuracy)\n",
    "    #print('Accuracy: %f' % accuracy)\n",
    "    # precision tp / (tp + fp)\n",
    "    precision = precision_score(y_test, y_pred,average='macro')\n",
    "    dict['precision'].append(precision)\n",
    "    #print('Precision: %f' % precision)\n",
    "    # recall: tp / (tp + fn)\n",
    "    recall = recall_score(y_test, y_pred,average='micro')\n",
    "    #print('Recall: %f' % recall)\n",
    "    dict['recall'].append(recall)\n",
    "    # f1: 2 tp / (2 tp + fp + fn)\n",
    "    f1 = f1_score(y_test, y_pred,average='micro')\n",
    "    #print('F1 score: %f' % f1)\n",
    "    dict['f1 score'].append(f1)\n",
    "\n",
    "df = pd.DataFrame(dict)\n",
    "  \n",
    "# displaying the DataFrame\n",
    "print(tabulate(df, headers = 'keys', tablefmt = 'psql'))\n",
    "    \n"
   ]
  },
  {
   "cell_type": "markdown",
   "id": "83004f11",
   "metadata": {},
   "source": [
    "### save final model\n",
    "- as ExtraTreesClassifier() has highest precision and f1 score choose it to be final model when keeping duplicates\n",
    "- linear svm has  highest precision and f1 score choose it to be final model when removing duplicates \n",
    "- linear svm generlize better "
   ]
  },
  {
   "cell_type": "code",
   "execution_count": 76,
   "id": "4d1c0d6b",
   "metadata": {},
   "outputs": [
    {
     "name": "stdout",
     "output_type": "stream",
     "text": [
      "Naive Bayes Classifier accuracy: 0.9330616996507567\n",
      "Classification Report: \n",
      "              precision    recall  f1-score   support\n",
      "\n",
      " Accountancy       0.80      0.83      0.81        69\n",
      "   Education       0.94      0.89      0.92       309\n",
      "          IT       0.96      0.96      0.96       942\n",
      "   Marketing       0.88      0.91      0.89       398\n",
      "\n",
      "    accuracy                           0.93      1718\n",
      "   macro avg       0.90      0.90      0.90      1718\n",
      "weighted avg       0.93      0.93      0.93      1718\n",
      "\n"
     ]
    }
   ],
   "source": [
    "from sklearn.metrics import classification_report\n",
    "\n",
    "final = ExtraTreesClassifier()\n",
    "nb = Pipeline([('vect', CountVectorizer()),\n",
    "               ('tfidf', TfidfTransformer()),\n",
    "               ('clf', final),])\n",
    "    \n",
    "\n",
    "nb.fit(x_train, y_train)\n",
    "\n",
    "y_pred = nb.predict(x_test)\n",
    "\n",
    "print('{} accuracy: {}\\nClassification Report: \\n{}'.format(\n",
    "        name, accuracy_score(y_test, y_pred), classification_report(y_test, y_pred)))"
   ]
  },
  {
   "cell_type": "code",
   "execution_count": 80,
   "id": "d6af6507",
   "metadata": {},
   "outputs": [
    {
     "name": "stdout",
     "output_type": "stream",
     "text": [
      "accuracy 0.9155995343422585\n"
     ]
    }
   ],
   "source": [
    "sgd = Pipeline([('vect', CountVectorizer()),\n",
    "                ('tfidf', TfidfTransformer()),\n",
    "                ('clf', SGDClassifier(loss='hinge', penalty='l2',alpha=0.0001, random_state=42, max_iter=200, tol=None)),])\n",
    "\n",
    "sgd.fit(x_train, y_train, **{'clf__sample_weight': weights})\n",
    "\n",
    "y_pred = sgd.predict(x_test)\n",
    "print('accuracy %s' % accuracy_score(y_pred, y_test))"
   ]
  },
  {
   "cell_type": "code",
   "execution_count": 81,
   "id": "12f94d11",
   "metadata": {},
   "outputs": [
    {
     "name": "stdout",
     "output_type": "stream",
     "text": [
      "['IT']\n"
     ]
    }
   ],
   "source": [
    "import pickle\n",
    "pickle.dump(sgd, open('model.pkl','wb'))\n",
    "\n",
    "# Loading model to compare the results\n",
    "model = pickle.load(open( 'model.pkl' , 'rb' ))\n",
    "print(model.predict([ \"machine learning engineer\" ]))"
   ]
  },
  {
   "cell_type": "markdown",
   "id": "83858452",
   "metadata": {},
   "source": [
    "\n",
    "# flask\n",
    "About Deploying the Model: Flask API\n",
    "I used Flask API to create a RESTful API for my model. The Model is not recompiled or trained each request, it just predicts upon the given data in request.\n",
    "To test and use my Model's RESTful API service:\n",
    "1.\tThe Server only supoorts GET Requests.\n",
    "2.\tThe Server is run by simply running the script from terminal using command (python api_server.py)\n",
    "3.\tAfter running the server you can direct GET requests to it using Postman or any other tool.\n",
    "Example Request/Response:\n",
    "•\tRequest: \"http://127.0.0.1:5000/model/api/JS developer\" (Job title added to request)\n",
    "•\tResponse: \"IT\" (Predicted Industry by model)\n"
   ]
  },
  {
   "cell_type": "code",
   "execution_count": null,
   "id": "921b36af",
   "metadata": {},
   "outputs": [],
   "source": []
  }
 ],
 "metadata": {
  "kernelspec": {
   "display_name": "Python 3 (ipykernel)",
   "language": "python",
   "name": "python3"
  },
  "language_info": {
   "codemirror_mode": {
    "name": "ipython",
    "version": 3
   },
   "file_extension": ".py",
   "mimetype": "text/x-python",
   "name": "python",
   "nbconvert_exporter": "python",
   "pygments_lexer": "ipython3",
   "version": "3.9.6"
  }
 },
 "nbformat": 4,
 "nbformat_minor": 5
}
